{
 "cells": [
  {
   "cell_type": "code",
   "execution_count": 21,
   "metadata": {},
   "outputs": [
    {
     "name": "stdout",
     "output_type": "stream",
     "text": [
      "(237, 4)\n",
      "   Gender  Age Range  Head Size(cm^3)  Brain Weight(grams)\n",
      "0       1          1             4512                 1530\n",
      "1       1          1             3738                 1297\n",
      "2       1          1             4261                 1335\n",
      "3       1          1             3777                 1282\n",
      "4       1          1             4177                 1590\n"
     ]
    }
   ],
   "source": [
    "import numpy as np\n",
    "import matplotlib.pyplot as plt\n",
    "import pandas as pd\n",
    "\n",
    "\n",
    "# read data\n",
    "df = pd.read_csv(r'D:\\agnext\\Agnext\\ML\\dataset\\headbrain.csv')\n",
    "print(df.shape)\n",
    "print(df.head())"
   ]
  },
  {
   "cell_type": "code",
   "execution_count": 22,
   "metadata": {},
   "outputs": [
    {
     "data": {
      "image/png": "[encoded data removed]",
      "text/plain": [
       "<Figure size 432x288 with 1 Axes>"
      ]
     },
     "metadata": {
      "needs_background": "light"
     },
     "output_type": "display_data"
    }
   ],
   "source": [
    "# collect data\n",
    "X = df['Head Size(cm^3)'].values\n",
    "y = df['Brain Weight(grams)'].values\n",
    "\n",
    "plt.plot_date(X, y, 'o')\n",
    "plt.show()"
   ]
  },
  {
   "cell_type": "code",
   "execution_count": 23,
   "metadata": {},
   "outputs": [
    {
     "name": "stdout",
     "output_type": "stream",
     "text": [
      "3633.9915611814345 1282.873417721519\n"
     ]
    }
   ],
   "source": [
    "# now finding its mean \n",
    "mean_x = np.mean(X)\n",
    "mean_y = np.mean(y)\n",
    "\n",
    "print(mean_x, mean_y)\n"
   ]
  },
  {
   "cell_type": "code",
   "execution_count": 24,
   "metadata": {},
   "outputs": [
    {
     "name": "stdout",
     "output_type": "stream",
     "text": [
      "<class 'numpy.ndarray'>\n"
     ]
    }
   ],
   "source": [
    "# now finding (x - mean_x) and (y - mean_y)\n",
    "\n",
    "x_sub = X - mean_x\n",
    "y_sub = y - mean_y\n",
    "\n",
    "print(type(x_sub))"
   ]
  },
  {
   "cell_type": "code",
   "execution_count": 25,
   "metadata": {},
   "outputs": [],
   "source": [
    "# nofind in (x - mean_x)*(y - mean_y)\n",
    "\n",
    "num = np.sum(x_sub * y_sub)\n",
    "\n",
    "# nofind in (x - mean_x)^2\n",
    "\n",
    "den = np.sum(x_sub ** 2)\n"
   ]
  },
  {
   "cell_type": "code",
   "execution_count": 26,
   "metadata": {},
   "outputs": [
    {
     "name": "stdout",
     "output_type": "stream",
     "text": [
      "0.2634293394893993\n"
     ]
    }
   ],
   "source": [
    "# the slope is \n",
    "m = num / den\n",
    "\n",
    "print(m)"
   ]
  },
  {
   "cell_type": "code",
   "execution_count": 27,
   "metadata": {},
   "outputs": [
    {
     "name": "stdout",
     "output_type": "stream",
     "text": [
      "325.5734210494428\n"
     ]
    }
   ],
   "source": [
    "# now find the intercept\n",
    "c = mean_y - (m * mean_x)\n",
    "\n",
    "print(c)"
   ]
  },
  {
   "cell_type": "code",
   "execution_count": 28,
   "metadata": {},
   "outputs": [
    {
     "data": {
      "image/png": "[encoded data removed]",
      "text/plain": [
       "<Figure size 432x288 with 1 Axes>"
      ]
     },
     "metadata": {
      "needs_background": "light"
     },
     "output_type": "display_data"
    }
   ],
   "source": [
    "# now plotting the line\n",
    "plt.plot(X,y, 'o')\n",
    "plt.plot(X, m * X + c, '-')\n",
    "plt.show()"
   ]
  },
  {
   "cell_type": "code",
   "execution_count": 29,
   "metadata": {},
   "outputs": [
    {
     "name": "stdout",
     "output_type": "stream",
     "text": [
      "0.360688280043\n"
     ]
    }
   ],
   "source": [
    "# now calculating the r-squared\n",
    "# calculate the mean of the residuals\n",
    "residuals = y - (m * X + c)\n",
    "num = np.sum(residuals ** 2)\n",
    "\n",
    "# calculate the mean of (y - mean_y) **2\n",
    "den = np.sum((y - mean_y) ** 2)\n",
    "\n",
    "r = num/den\n",
    "print(r)"
   ]
  },
  {
   "cell_type": "markdown",
   "metadata": {},
   "source": [
    "# Now doing it by sklearn "
   ]
  },
  {
   "cell_type": "code",
   "execution_count": 44,
   "metadata": {},
   "outputs": [
    {
     "name": "stdout",
     "output_type": "stream",
     "text": [
      "325.5734210494426\n",
      "0.26342933948939934\n",
      "0.639311719957\n"
     ]
    }
   ],
   "source": [
    "from sklearn.linear_model import LinearRegression\n",
    "from sklearn.metrics import mean_squared_error\n",
    "\n",
    "# cannot use Rank 1 matrix in scikit learn\n",
    "# so we need to convert it to 2d\n",
    "X = X.reshape(-1, 1)\n",
    "\n",
    "# creating model object \n",
    "regm = LinearRegression()\n",
    "\n",
    "# fitting the data \n",
    "reg = regm.fit(X, y)\n",
    "\n",
    "print (reg.intercept_)\n",
    "print (reg.coef_[0])\n",
    "# print (reg.slope)\n",
    "\n",
    "r = reg.score(X, y)\n",
    "print(r)\n"
   ]
  },
  {
   "cell_type": "code",
   "execution_count": 45,
   "metadata": {},
   "outputs": [
    {
     "data": {
      "image/png": "[encoded data removed]",
      "text/plain": [
       "<Figure size 432x288 with 1 Axes>"
      ]
     },
     "metadata": {
      "needs_background": "light"
     },
     "output_type": "display_data"
    }
   ],
   "source": [
    "plt.plot(X,y, 'o')\n",
    "plt.plot(X, reg.coef_[0] * X + reg.intercept_, '-')\n",
    "plt.show()"
   ]
  }
 ],
 "metadata": {
  "interpreter": {
   "hash": "71c5d2dff8833be8e303401ed8acb374f4f61924881bffd39b7e0e5fa62f4fd7"
  },
  "kernelspec": {
   "display_name": "Python 3.10.4 ('venv': venv)",
   "language": "python",
   "name": "python3"
  },
  "language_info": {
   "codemirror_mode": {
    "name": "ipython",
    "version": 3
   },
   "file_extension": ".py",
   "mimetype": "text/x-python",
   "name": "python",
   "nbconvert_exporter": "python",
   "pygments_lexer": "ipython3",
   "version": "3.10.4"
  },
  "orig_nbformat": 4
 },
 "nbformat": 4,
 "nbformat_minor": 2
}
